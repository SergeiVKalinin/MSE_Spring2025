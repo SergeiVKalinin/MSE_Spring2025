{
  "nbformat": 4,
  "nbformat_minor": 0,
  "metadata": {
    "colab": {
      "provenance": [],
      "toc_visible": true,
      "authorship_tag": "ABX9TyPf7XL3vxyNu9yerVan+4ku",
      "include_colab_link": true
    },
    "kernelspec": {
      "name": "python3",
      "display_name": "Python 3"
    },
    "language_info": {
      "name": "python"
    }
  },
  "cells": [
    {
      "cell_type": "markdown",
      "metadata": {
        "id": "view-in-github",
        "colab_type": "text"
      },
      "source": [
        "<a href=\"https://colab.research.google.com/github/SergeiVKalinin/MSE_Spring2025/blob/main/Module_2/8_StatisticalModels.ipynb\" target=\"_parent\"><img src=\"https://colab.research.google.com/assets/colab-badge.svg\" alt=\"Open In Colab\"/></a>"
      ]
    },
    {
      "cell_type": "markdown",
      "source": [
        "Notebook for the MSE510/494 course at MSE UTK\n",
        "- Instructor Sergei V. Kalinin"
      ],
      "metadata": {
        "id": "VbhB600YWngX"
      }
    },
    {
      "cell_type": "markdown",
      "source": [
        "# Diffusion Limited Aggregation"
      ],
      "metadata": {
        "id": "avab9mr3why9"
      }
    },
    {
      "cell_type": "code",
      "source": [
        "import numpy as np\n",
        "import matplotlib.pyplot as plt\n",
        "from PIL import Image\n",
        "import os\n",
        "\n",
        "# Define grid size and parameters\n",
        "GRID_SIZE = (48, 48)\n",
        "NUM_PARTICLES = 300  # Total number of particles to be launched\n",
        "STICKING_PROBABILITY = 1  # Probability that a particle sticks upon contact\n",
        "MAX_DIFFUSION_STEPS = 500  # Prevents infinite wandering\n",
        "SAVE_DIR = \"dle_fractal_frames\"\n",
        "\n",
        "# Create directory to save images\n",
        "if not os.path.exists(SAVE_DIR):\n",
        "    os.makedirs(SAVE_DIR)\n",
        "\n",
        "# Initialize grid with a single seed at the center\n",
        "def initialize_grid(size):\n",
        "    grid = np.zeros(size, dtype=int)\n",
        "    center = (size[0]//2, size[1]//2)\n",
        "    grid[center] = 1\n",
        "    return grid\n",
        "\n",
        "# Function to release a particle from the edge\n",
        "def release_particle(grid_size):\n",
        "    edge = np.random.choice([0, 1, 2, 3])  # Select a random edge (top, bottom, left, right)\n",
        "    if edge == 0:\n",
        "        return 0, np.random.randint(0, grid_size[1])  # Top edge\n",
        "    elif edge == 1:\n",
        "        return grid_size[0] - 1, np.random.randint(0, grid_size[1])  # Bottom edge\n",
        "    elif edge == 2:\n",
        "        return np.random.randint(0, grid_size[0]), 0  # Left edge\n",
        "    else:\n",
        "        return np.random.randint(0, grid_size[0]), grid_size[1] - 1  # Right edge\n",
        "\n",
        "# Function to simulate particle movement and sticking\n",
        "def diffuse_particle(grid, sticking_prob):\n",
        "    x, y = release_particle(grid.shape)\n",
        "    steps = 0  # Step counter to prevent infinite loops\n",
        "    while steps < MAX_DIFFUSION_STEPS:\n",
        "        direction = np.array([(0, 1), (1, 0), (0, -1), (-1, 0)])\n",
        "        dx, dy = direction[np.random.choice(len(direction))]  # Select a random direction\n",
        "        x_new, y_new = x + dx, y + dy\n",
        "\n",
        "        # Ensure new position is within bounds\n",
        "        if x_new <= 0 or x_new >= grid.shape[0] - 1 or y_new <= 0 or y_new >= grid.shape[1] - 1:\n",
        "            x, y = release_particle(grid.shape)  # Restart particle if it reaches the boundary\n",
        "            steps = 0  # Reset step counter\n",
        "            continue\n",
        "\n",
        "        # Stick if near aggregate with probability\n",
        "        if np.any(grid[max(0, x_new-1):min(grid.shape[0], x_new+2), max(0, y_new-1):min(grid.shape[1], y_new+2)] == 1) and np.random.rand() < sticking_prob:\n",
        "            grid[x_new, y_new] = 1\n",
        "            return grid  # Return updated grid after sticking\n",
        "\n",
        "        x, y = x_new, y_new  # Move particle\n",
        "        steps += 1\n",
        "\n",
        "    return grid  # Return grid even if particle doesn't stick (to prevent infinite loop)\n",
        "\n",
        "# Initialize the grid\n",
        "current_grid = initialize_grid(GRID_SIZE)\n",
        "\n",
        "# Save each step as an image\n",
        "def save_grid_as_image(grid, step):\n",
        "    plt.imshow(grid, cmap='gray', interpolation='nearest')\n",
        "    plt.axis('off')\n",
        "    plt.savefig(f\"{SAVE_DIR}/step_{step:04d}.jpg\", bbox_inches='tight', pad_inches=0)\n",
        "    plt.close()\n",
        "\n",
        "# Run the simulation and save images\n",
        "for step in range(1, NUM_PARTICLES + 1):\n",
        "    current_grid = diffuse_particle(current_grid, STICKING_PROBABILITY)\n",
        "    if step % 1 == 0:  # Save an image every step\n",
        "        save_grid_as_image(current_grid, step)\n",
        "\n",
        "# Create an animated GIF\n",
        "def create_gif(save_dir, output_filename):\n",
        "    images = [Image.open(f\"{save_dir}/step_{i:04d}.jpg\") for i in range(1, NUM_PARTICLES + 1)]\n",
        "    images[0].save(output_filename, save_all=True, append_images=images[1:], duration=100, loop=0)\n",
        "\n",
        "# Generate GIF\n",
        "gif_filename = \"dla_fractal.gif\"\n",
        "create_gif(SAVE_DIR, gif_filename)\n",
        "\n",
        "print(f\"GIF saved as {gif_filename}\")\n"
      ],
      "metadata": {
        "colab": {
          "base_uri": "https://localhost:8080/"
        },
        "id": "2_5N6lpl7Hl9",
        "outputId": "1e840a0f-8b41-4016-e05d-48cb5403d905"
      },
      "execution_count": null,
      "outputs": [
        {
          "output_type": "stream",
          "name": "stdout",
          "text": [
            "GIF saved as dla_fractal.gif\n"
          ]
        }
      ]
    },
    {
      "cell_type": "markdown",
      "source": [
        "# Game of Life"
      ],
      "metadata": {
        "id": "WCnZs3H6v-Ly"
      }
    },
    {
      "cell_type": "code",
      "source": [
        "import numpy as np\n",
        "import matplotlib.pyplot as plt\n",
        "import matplotlib.animation as animation\n",
        "from PIL import Image\n",
        "import os\n",
        "\n",
        "# Define grid size and steps\n",
        "GRID_SIZE = (200, 200)\n",
        "NUM_STEPS = 500\n",
        "SAVE_DIR = \"game_of_life_frames\"\n",
        "\n",
        "# Create directory to save images\n",
        "if not os.path.exists(SAVE_DIR):\n",
        "    os.makedirs(SAVE_DIR)\n",
        "\n",
        "# Initialize grid randomly with 0s and 1s\n",
        "def initialize_grid(size):\n",
        "    return np.random.choice([0, 1], size=size, p=[0.8, 0.2])\n",
        "\n",
        "# Function to update the grid based on the Game of Life rules\n",
        "def update(grid):\n",
        "    new_grid = grid.copy()\n",
        "    for i in range(grid.shape[0]):\n",
        "        for j in range(grid.shape[1]):\n",
        "            # Count live neighbors\n",
        "            neighbors = np.sum(grid[max(0, i-1):min(i+2, grid.shape[0]), max(0, j-1):min(j+2, grid.shape[1])]) - grid[i, j]\n",
        "\n",
        "            # Apply rules of the game\n",
        "            if grid[i, j] == 1 and (neighbors < 2 or neighbors > 3):\n",
        "                new_grid[i, j] = 0  # Underpopulation or Overpopulation\n",
        "            elif grid[i, j] == 0 and neighbors == 3:\n",
        "                new_grid[i, j] = 1  # Reproduction\n",
        "    return new_grid\n",
        "\n",
        "# Initialize the grid\n",
        "current_grid = initialize_grid(GRID_SIZE)\n",
        "\n",
        "# Save each step as an image\n",
        "def save_grid_as_image(grid, step):\n",
        "    plt.imshow(grid, cmap='gray', interpolation='nearest')\n",
        "    plt.axis('off')\n",
        "    plt.savefig(f\"{SAVE_DIR}/step_{step:03d}.jpg\", bbox_inches='tight', pad_inches=0)\n",
        "    plt.close()\n",
        "\n",
        "# Run the simulation and save images\n",
        "for step in range(NUM_STEPS):\n",
        "    save_grid_as_image(current_grid, step)\n",
        "    current_grid = update(current_grid)\n",
        "\n",
        "# Create an animated GIF\n",
        "def create_gif(save_dir, output_filename):\n",
        "    images = [Image.open(f\"{save_dir}/step_{i:03d}.jpg\") for i in range(NUM_STEPS)]\n",
        "    images[0].save(output_filename, save_all=True, append_images=images[1:], duration=100, loop=0)\n",
        "\n",
        "# Generate GIF\n",
        "gif_filename = \"game_of_life.gif\"\n",
        "create_gif(SAVE_DIR, gif_filename)\n",
        "\n",
        "print(f\"GIF saved as {gif_filename}\")"
      ],
      "metadata": {
        "colab": {
          "base_uri": "https://localhost:8080/"
        },
        "id": "J4F1OIpKwAYy",
        "outputId": "2d36f38e-6e3b-4235-d1a0-209438c8748c"
      },
      "execution_count": null,
      "outputs": [
        {
          "output_type": "stream",
          "name": "stdout",
          "text": [
            "GIF saved as game_of_life.gif\n"
          ]
        }
      ]
    },
    {
      "cell_type": "code",
      "source": [
        "import numpy as np\n",
        "import matplotlib.pyplot as plt\n",
        "import matplotlib.animation as animation\n",
        "from PIL import Image\n",
        "import os\n",
        "\n",
        "# Define grid size and simulation parameters\n",
        "GRID_SIZE = (50, 50)\n",
        "STEPS = 300\n",
        "SAVE_DIR = \"game_of_life_gifs\"\n",
        "\n",
        "# Create directory to save gifs\n",
        "if not os.path.exists(SAVE_DIR):\n",
        "    os.makedirs(SAVE_DIR)\n",
        "\n",
        "# Define famous Game of Life configurations\n",
        "def get_configurations():\n",
        "    configs = {\n",
        "        \"Block\": [(24, 24), (24, 25), (25, 24), (25, 25)],\n",
        "        \"Beehive\": [(24, 23), (23, 24), (23, 25), (24, 26), (25, 24), (25, 25)],\n",
        "        \"Blinker\": [(24, 23), (24, 24), (24, 25)],\n",
        "        \"Toad\": [(23, 24), (23, 25), (23, 26), (24, 23), (24, 24), (24, 25)],\n",
        "        \"Beacon\": [(22, 22), (22, 23), (23, 22), (23, 23), (24, 24), (24, 25), (25, 24), (25, 25)],\n",
        "        \"Glider\": [(24, 23), (25, 24), (23, 25), (24, 25), (25, 25)],\n",
        "        \"LWSS\": [(22, 23), (22, 26), (23, 22), (24, 22), (25, 22), (25, 26), (26, 22), (26, 23), (26, 24), (26, 25)],\n",
        "        \"R-pentomino\": [(24, 24), (24, 25), (25, 23), (25, 24), (26, 24)],\n",
        "        \"Diehard\": [(24, 29), (25, 23), (25, 24), (26, 24), (26, 28), (26, 29), (26, 30)],\n",
        "        \"Acorn\": [(24, 23), (26, 24), (23, 25), (24, 25), (26, 25), (27, 25), (28, 25)],\n",
        "    }\n",
        "    return configs\n",
        "\n",
        "# Initialize grid\n",
        "def initialize_grid(config):\n",
        "    grid = np.zeros(GRID_SIZE, dtype=int)\n",
        "    for x, y in config:\n",
        "        grid[x, y] = 1\n",
        "    return grid\n",
        "\n",
        "# Update grid according to Game of Life rules\n",
        "def update(grid):\n",
        "    new_grid = grid.copy()\n",
        "    for i in range(grid.shape[0]):\n",
        "        for j in range(grid.shape[1]):\n",
        "            neighbors = np.sum(grid[max(0, i-1):min(i+2, grid.shape[0]), max(0, j-1):min(j+2, grid.shape[1])]) - grid[i, j]\n",
        "            if grid[i, j] == 1 and (neighbors < 2 or neighbors > 3):\n",
        "                new_grid[i, j] = 0\n",
        "            elif grid[i, j] == 0 and neighbors == 3:\n",
        "                new_grid[i, j] = 1\n",
        "    return new_grid\n",
        "\n",
        "# Animate the Game of Life for each configuration\n",
        "def run_simulation(name, config):\n",
        "    grid = initialize_grid(config)\n",
        "    frames = []\n",
        "\n",
        "    for _ in range(STEPS):\n",
        "        frames.append(grid.copy())\n",
        "        grid = update(grid)\n",
        "\n",
        "    gif_filename = os.path.join(SAVE_DIR, f\"{name}.gif\")\n",
        "    images = [Image.fromarray((frame * 255).astype(np.uint8)) for frame in frames]\n",
        "    images[0].save(gif_filename, save_all=True, append_images=images[1:], duration=50, loop=0)\n",
        "    print(f\"GIF saved: {gif_filename}\")\n",
        "\n",
        "# Run simulation for all configurations\n",
        "configs = get_configurations()\n",
        "for name, config in configs.items():\n",
        "    run_simulation(name, config)\n",
        "\n",
        "print(\"All GIFs saved successfully!\")"
      ],
      "metadata": {
        "colab": {
          "base_uri": "https://localhost:8080/"
        },
        "id": "OcgHcQxE2Pel",
        "outputId": "3d5fabce-9fe0-4403-c522-f263fa0bc2b2"
      },
      "execution_count": null,
      "outputs": [
        {
          "output_type": "stream",
          "name": "stdout",
          "text": [
            "GIF saved: game_of_life_gifs/Block.gif\n",
            "GIF saved: game_of_life_gifs/Beehive.gif\n",
            "GIF saved: game_of_life_gifs/Blinker.gif\n",
            "GIF saved: game_of_life_gifs/Toad.gif\n",
            "GIF saved: game_of_life_gifs/Beacon.gif\n",
            "GIF saved: game_of_life_gifs/Glider.gif\n",
            "GIF saved: game_of_life_gifs/LWSS.gif\n",
            "GIF saved: game_of_life_gifs/R-pentomino.gif\n",
            "GIF saved: game_of_life_gifs/Diehard.gif\n",
            "GIF saved: game_of_life_gifs/Acorn.gif\n",
            "All GIFs saved successfully!\n"
          ]
        }
      ]
    },
    {
      "cell_type": "code",
      "source": [],
      "metadata": {
        "id": "uxeXNrBNsR_w"
      },
      "execution_count": null,
      "outputs": []
    },
    {
      "cell_type": "markdown",
      "source": [
        "# 1D Cellular Automata"
      ],
      "metadata": {
        "id": "th2QKWaFsS7P"
      }
    },
    {
      "cell_type": "code",
      "source": [
        "import numpy as np\n",
        "import matplotlib.pyplot as plt\n",
        "from PIL import Image\n",
        "import os\n",
        "\n",
        "# Define simulation parameters\n",
        "GRID_SIZE = 100  # Width of the 1D automaton\n",
        "STEPS = 100  # Number of steps to simulate\n",
        "SAVE_DIR = \"1d_cellular_automata\"\n",
        "\n",
        "# Create directory to save images\n",
        "if not os.path.exists(SAVE_DIR):\n",
        "    os.makedirs(SAVE_DIR)\n",
        "\n",
        "# Function to apply a given rule\n",
        "def apply_rule(rule_number, neighborhood):\n",
        "    rule_bin = np.array([int(x) for x in np.binary_repr(rule_number, width=8)])\n",
        "    index = int(\"\".join(map(str, neighborhood)), 2)\n",
        "    return rule_bin[7 - index]\n",
        "\n",
        "# Function to simulate a 1D cellular automaton\n",
        "def simulate_rule(rule_number):\n",
        "    grid = np.zeros((STEPS, GRID_SIZE), dtype=int)\n",
        "    grid[0, GRID_SIZE // 2] = 1  # Start with a single active cell in the middle\n",
        "\n",
        "    for t in range(1, STEPS):\n",
        "        for i in range(1, GRID_SIZE - 1):\n",
        "            neighborhood = grid[t-1, i-1:i+2]\n",
        "            grid[t, i] = apply_rule(rule_number, neighborhood)\n",
        "    return grid\n",
        "\n",
        "# Function to save each rule's evolution as an image\n",
        "def save_grid_as_image(grid, rule_number):\n",
        "    plt.imshow(grid, cmap='gray', interpolation='nearest')\n",
        "    plt.axis('off')\n",
        "    plt.savefig(f\"{SAVE_DIR}/rule_{rule_number:03d}.jpg\", bbox_inches='tight', pad_inches=0)\n",
        "    plt.close()\n",
        "\n",
        "# Run simulation for all 256 rules\n",
        "for rule in range(256):\n",
        "    grid = simulate_rule(rule)\n",
        "    save_grid_as_image(grid, rule)\n",
        "\n",
        "# Create an animated GIF from saved images\n",
        "def create_gif(save_dir, output_filename):\n",
        "    images = [Image.open(f\"{save_dir}/rule_{i:03d}.jpg\") for i in range(256)]\n",
        "    images[0].save(output_filename, save_all=True, append_images=images[1:], duration=100, loop=0)\n",
        "\n",
        "# Generate GIF\n",
        "gif_filename = \"1d_cellular_automata.gif\"\n",
        "create_gif(SAVE_DIR, gif_filename)\n",
        "\n",
        "print(f\"GIF saved as {gif_filename}\")\n"
      ],
      "metadata": {
        "colab": {
          "base_uri": "https://localhost:8080/"
        },
        "id": "jm-rB8yZsV3w",
        "outputId": "a0fdf2ee-76b9-464e-c40c-2b82a3838276"
      },
      "execution_count": null,
      "outputs": [
        {
          "output_type": "stream",
          "name": "stdout",
          "text": [
            "GIF saved as 1d_cellular_automata.gif\n"
          ]
        }
      ]
    },
    {
      "cell_type": "markdown",
      "source": [
        "# Arbitrary rules"
      ],
      "metadata": {
        "id": "zukQtutzzMAm"
      }
    },
    {
      "cell_type": "code",
      "source": [
        "import numpy as np\n",
        "import matplotlib.pyplot as plt\n",
        "import os\n",
        "from PIL import Image\n",
        "\n",
        "# Define simulation parameters\n",
        "GRID_SIZE = (50, 50)  # Grid size for the cellular automaton\n",
        "STEPS = 300  # Number of steps to simulate\n",
        "SAVE_DIR = \"custom_game_of_life\"\n",
        "GIF_PATH = \"custom_game_of_life.gif\"\n",
        "\n",
        "# Create directory to save images\n",
        "if not os.path.exists(SAVE_DIR):\n",
        "    os.makedirs(SAVE_DIR)\n",
        "\n",
        "# Initialize grid randomly\n",
        "def initialize_grid():\n",
        "    return np.random.choice([0, 1], size=GRID_SIZE, p=[0.8, 0.2])\n",
        "\n",
        "# Custom rules for the Game of Life variant\n",
        "def update(grid):\n",
        "    new_grid = np.zeros_like(grid)\n",
        "    for i in range(1, grid.shape[0] - 1):\n",
        "        for j in range(1, grid.shape[1] - 1):\n",
        "            # Count neighbors on main axes (N, S, E, W)\n",
        "            main_axes_neighbors = (\n",
        "                grid[i-1, j] + grid[i+1, j] + grid[i, j-1] + grid[i, j+1]\n",
        "            )\n",
        "\n",
        "            # Count diagonal neighbors (NE, NW, SE, SW)\n",
        "            diagonal_neighbors = (\n",
        "                grid[i-1, j-1] + grid[i-1, j+1] + grid[i+1, j-1] + grid[i+1, j+1]\n",
        "            )\n",
        "\n",
        "            total_neighbors = main_axes_neighbors + diagonal_neighbors\n",
        "\n",
        "            # Apply the rules\n",
        "            if grid[i, j] == 1:\n",
        "                if main_axes_neighbors == 2 and diagonal_neighbors in [2, 3, 4]:\n",
        "                    new_grid[i, j] = 1  # Particle survives\n",
        "            elif grid[i, j] == 0:\n",
        "                if total_neighbors in [3, 4, 5]:\n",
        "                    new_grid[i, j] = 1  # Particle appears\n",
        "\n",
        "    return new_grid\n",
        "\n",
        "# Function to save grid state as an image\n",
        "def save_grid_as_image(grid, step):\n",
        "    image_path = f\"{SAVE_DIR}/step_{step:04d}.png\"\n",
        "    plt.imshow(grid, cmap='gray', interpolation='nearest')\n",
        "    plt.axis('off')\n",
        "    plt.savefig(image_path, bbox_inches='tight', pad_inches=0)\n",
        "    plt.close()\n",
        "    return image_path\n",
        "\n",
        "# Run the simulation and save images\n",
        "image_paths = []\n",
        "current_grid = initialize_grid()\n",
        "for step in range(STEPS):\n",
        "    image_path = save_grid_as_image(current_grid, step)\n",
        "    image_paths.append(image_path)\n",
        "    current_grid = update(current_grid)\n",
        "\n",
        "# Create animated GIF\n",
        "def create_gif(image_paths, gif_path, duration=100):\n",
        "    images = [Image.open(img) for img in image_paths]\n",
        "    images[0].save(gif_path, save_all=True, append_images=images[1:], duration=duration, loop=0)\n",
        "\n",
        "create_gif(image_paths, GIF_PATH)\n",
        "\n",
        "print(\"Simulation completed. Images saved in:\", SAVE_DIR)\n",
        "print(\"Animated GIF saved as:\", GIF_PATH)\n"
      ],
      "metadata": {
        "colab": {
          "base_uri": "https://localhost:8080/"
        },
        "id": "mePdKXTtycfE",
        "outputId": "fc521b7a-9bfd-4311-e4c1-f86ceb5a0f52"
      },
      "execution_count": null,
      "outputs": [
        {
          "output_type": "stream",
          "name": "stdout",
          "text": [
            "Simulation completed. Images saved in: custom_game_of_life\n",
            "Animated GIF saved as: custom_game_of_life.gif\n"
          ]
        }
      ]
    }
  ]
}