{
  "cells": [
    {
      "cell_type": "markdown",
      "metadata": {
        "id": "view-in-github",
        "colab_type": "text"
      },
      "source": [
        "<a href=\"https://colab.research.google.com/github/SergeiVKalinin/MSE_Spring2025/blob/main/Module_1/0_Introduction_to_Python.ipynb\" target=\"_parent\"><img src=\"https://colab.research.google.com/assets/colab-badge.svg\" alt=\"Open In Colab\"/></a>"
      ]
    },
    {
      "cell_type": "markdown",
      "metadata": {
        "id": "8yNpKAhtYf7O"
      },
      "source": [
        "# Introduction to Python\n",
        "\n",
        "- Based on notebooks developed by Suhas Somhath (2018), https://scholar.google.com/citations?hl=en&user=ti-2g0IAAAAJ\n",
        "- Adaptation by Sergei Kalinin (2023), sergei2@utk.edu\n",
        "- For UTK MSE 510/494 Spring 2025 Course"
      ]
    },
    {
      "cell_type": "markdown",
      "metadata": {
        "id": "BuIEhmh6Yf7S"
      },
      "source": [
        "## Interactive\n",
        "\n",
        "Unlike compiled languages like C / Fortran / Java etc, python is an interactive and interpreted language meaning that you can use it like a calculator executing one command at a time instead of having to compile a giant set of commands:"
      ]
    },
    {
      "cell_type": "code",
      "execution_count": 1,
      "metadata": {
        "id": "FLtUu-ahYf7S",
        "outputId": "75ccd1d3-44d7-487a-dcae-bc70f2c9ea68",
        "colab": {
          "base_uri": "https://localhost:8080/"
        }
      },
      "outputs": [
        {
          "output_type": "execute_result",
          "data": {
            "text/plain": [
              "16"
            ]
          },
          "metadata": {},
          "execution_count": 1
        }
      ],
      "source": [
        "1 + 15"
      ]
    },
    {
      "cell_type": "code",
      "execution_count": 2,
      "metadata": {
        "id": "c2K9kqZtYf7U",
        "outputId": "bb1594a6-c39b-4a2b-bbd3-b80b55555c4e",
        "colab": {
          "base_uri": "https://localhost:8080/"
        }
      },
      "outputs": [
        {
          "output_type": "execute_result",
          "data": {
            "text/plain": [
              "32"
            ]
          },
          "metadata": {},
          "execution_count": 2
        }
      ],
      "source": [
        "2 ** 5"
      ]
    },
    {
      "cell_type": "markdown",
      "metadata": {
        "id": "9g59T_TyYf7U"
      },
      "source": [
        "## Variables\n",
        "\n",
        "The basic components of (scientific) python are variables that can hold values that can be changed later on.\n",
        "\n",
        "We create variables as:\n",
        "\n",
        "``variable_name = value``"
      ]
    },
    {
      "cell_type": "code",
      "execution_count": 3,
      "metadata": {
        "id": "BJEdu3ZpYf7U",
        "outputId": "f4180eb8-fd05-4e19-e2f8-e680f15c30c0",
        "colab": {
          "base_uri": "https://localhost:8080/"
        }
      },
      "outputs": [
        {
          "output_type": "stream",
          "name": "stdout",
          "text": [
            "100 hello 3.147 True\n"
          ]
        }
      ],
      "source": [
        "my_integer_variable = 100\n",
        "my_string_variable = 'hello'\n",
        "my_floating_pt_variable = 3.147\n",
        "my_boolean_value = True\n",
        "\n",
        "print(my_integer_variable, my_string_variable, my_floating_pt_variable, my_boolean_value)"
      ]
    },
    {
      "cell_type": "markdown",
      "metadata": {
        "id": "_hooo7GDYf7V"
      },
      "source": [
        "There are certain rules for naming variables:\n",
        "* Should not start with a number\n",
        "* Should not use reserved words like print, for, if, else etc.\n",
        "* Can use characters like '_' but not { or [ or ( or - or * or & ....\n",
        "\n",
        "Try these out:"
      ]
    },
    {
      "cell_type": "code",
      "execution_count": 4,
      "metadata": {
        "id": "34iGmII7Yf7V",
        "outputId": "86bbcd97-ef42-480f-c357-dec49770f8af",
        "colab": {
          "base_uri": "https://localhost:8080/",
          "height": 109
        }
      },
      "outputs": [
        {
          "output_type": "error",
          "ename": "SyntaxError",
          "evalue": "invalid decimal literal (<ipython-input-4-408f771445fc>, line 1)",
          "traceback": [
            "\u001b[0;36m  File \u001b[0;32m\"<ipython-input-4-408f771445fc>\"\u001b[0;36m, line \u001b[0;32m1\u001b[0m\n\u001b[0;31m    3rd_value = 4\u001b[0m\n\u001b[0m    ^\u001b[0m\n\u001b[0;31mSyntaxError\u001b[0m\u001b[0;31m:\u001b[0m invalid decimal literal\n"
          ]
        }
      ],
      "source": [
        "3rd_value = 4"
      ]
    },
    {
      "cell_type": "markdown",
      "metadata": {
        "id": "dPo7ejv3Yf7V"
      },
      "source": [
        "# Lists\n",
        "As the name implies, such objects can contain a set of items like numbers, strings, or even lists, etc."
      ]
    },
    {
      "cell_type": "code",
      "execution_count": 6,
      "metadata": {
        "id": "oDussNgaYf7W",
        "outputId": "7a966251-f083-4416-8fac-08999f22a619",
        "colab": {
          "base_uri": "https://localhost:8080/"
        }
      },
      "outputs": [
        {
          "output_type": "stream",
          "name": "stdout",
          "text": [
            "[1, -2.345, 'hello', True]\n"
          ]
        }
      ],
      "source": [
        "my_list = [1, -2.345, 'hello', True]\n",
        "print(my_list)"
      ]
    },
    {
      "cell_type": "markdown",
      "metadata": {
        "id": "ZgrWSabTYf7W"
      },
      "source": [
        "### Length:"
      ]
    },
    {
      "cell_type": "code",
      "execution_count": 7,
      "metadata": {
        "id": "EtpVid5SYf7W",
        "outputId": "364be321-0451-4271-cd2a-884f72d7e6e9",
        "colab": {
          "base_uri": "https://localhost:8080/"
        }
      },
      "outputs": [
        {
          "output_type": "execute_result",
          "data": {
            "text/plain": [
              "4"
            ]
          },
          "metadata": {},
          "execution_count": 7
        }
      ],
      "source": [
        "len(my_list)"
      ]
    },
    {
      "cell_type": "markdown",
      "metadata": {
        "id": "TgEWn0MDYf7W"
      },
      "source": [
        "## Indexing\n",
        "Let's say that we are interested in getting the second value in the list above. In python, this translates to getting the item at index ``1`` and not ``2`` since **python starts counting from index 0**.\n",
        "\n",
        "Just typing \"``my_list``\" would result in the entire list. We can find the item at the ``1st`` index by adding the suffix: **[1]**"
      ]
    },
    {
      "cell_type": "code",
      "execution_count": 8,
      "metadata": {
        "id": "uXHTKMzAYf7X",
        "outputId": "863e4074-2c3c-423e-c5f7-6b269da12c59",
        "colab": {
          "base_uri": "https://localhost:8080/"
        }
      },
      "outputs": [
        {
          "output_type": "execute_result",
          "data": {
            "text/plain": [
              "-2.345"
            ]
          },
          "metadata": {},
          "execution_count": 8
        }
      ],
      "source": [
        "my_list[1]"
      ]
    },
    {
      "cell_type": "code",
      "execution_count": 9,
      "metadata": {
        "id": "PoPDVefJYf7X",
        "outputId": "e68eee9d-7e70-435c-c631-0d68a8bdb7a6",
        "colab": {
          "base_uri": "https://localhost:8080/",
          "height": 36
        }
      },
      "outputs": [
        {
          "output_type": "execute_result",
          "data": {
            "text/plain": [
              "'hello'"
            ],
            "application/vnd.google.colaboratory.intrinsic+json": {
              "type": "string"
            }
          },
          "metadata": {},
          "execution_count": 9
        }
      ],
      "source": [
        "my_list[2]"
      ]
    },
    {
      "cell_type": "markdown",
      "metadata": {
        "id": "xdvgVQAyYf7X"
      },
      "source": [
        "By the same token, if the object has length ``N``, the last index is ``N-1`` and **not** ``N``. Thus, the following line would result in an error:"
      ]
    },
    {
      "cell_type": "code",
      "execution_count": 10,
      "metadata": {
        "id": "GDF_2EONYf7X",
        "outputId": "59ff40c8-2e4c-4d16-b6e5-caaba9192672",
        "colab": {
          "base_uri": "https://localhost:8080/",
          "height": 145
        }
      },
      "outputs": [
        {
          "output_type": "error",
          "ename": "IndexError",
          "evalue": "list index out of range",
          "traceback": [
            "\u001b[0;31m---------------------------------------------------------------------------\u001b[0m",
            "\u001b[0;31mIndexError\u001b[0m                                Traceback (most recent call last)",
            "\u001b[0;32m<ipython-input-10-d598c93259b0>\u001b[0m in \u001b[0;36m<cell line: 0>\u001b[0;34m()\u001b[0m\n\u001b[0;32m----> 1\u001b[0;31m \u001b[0mmy_list\u001b[0m\u001b[0;34m[\u001b[0m\u001b[0mlen\u001b[0m\u001b[0;34m(\u001b[0m\u001b[0mmy_list\u001b[0m\u001b[0;34m)\u001b[0m\u001b[0;34m]\u001b[0m\u001b[0;34m\u001b[0m\u001b[0;34m\u001b[0m\u001b[0m\n\u001b[0m",
            "\u001b[0;31mIndexError\u001b[0m: list index out of range"
          ]
        }
      ],
      "source": [
        "my_list[len(my_list)]"
      ]
    },
    {
      "cell_type": "markdown",
      "metadata": {
        "id": "DXiX6wkfYf7X"
      },
      "source": [
        "One can also get a subset of the list as ``object[start:end]``. Note that this is equivalent to a list of ``object[start], object[start+1], .... object[end-2], object[end-1]``. ``object[end]`` is **not** included!"
      ]
    },
    {
      "cell_type": "code",
      "execution_count": 12,
      "metadata": {
        "id": "GweaZFp_Yf7Y",
        "outputId": "b2ddcb83-2259-441f-df77-dd9b5de10b78",
        "colab": {
          "base_uri": "https://localhost:8080/"
        }
      },
      "outputs": [
        {
          "output_type": "execute_result",
          "data": {
            "text/plain": [
              "[1, -2.345]"
            ]
          },
          "metadata": {},
          "execution_count": 12
        }
      ],
      "source": [
        "my_list[0:2]"
      ]
    },
    {
      "cell_type": "markdown",
      "metadata": {
        "id": "Hdgc6jMCYf7Y"
      },
      "source": [
        "### Appending:"
      ]
    },
    {
      "cell_type": "code",
      "execution_count": 13,
      "metadata": {
        "id": "dwkN7-GEYf7Y",
        "outputId": "9f932ad7-dbf8-49ff-ece8-ce8a8d3118e0",
        "colab": {
          "base_uri": "https://localhost:8080/"
        }
      },
      "outputs": [
        {
          "output_type": "execute_result",
          "data": {
            "text/plain": [
              "[1, -2.345, 'hello', True, 'bye']"
            ]
          },
          "metadata": {},
          "execution_count": 13
        }
      ],
      "source": [
        "my_list.append('bye')\n",
        "my_list"
      ]
    },
    {
      "cell_type": "markdown",
      "metadata": {
        "id": "2lWrUgk9Yf7Y"
      },
      "source": [
        "### Changing an entry:"
      ]
    },
    {
      "cell_type": "code",
      "execution_count": 14,
      "metadata": {
        "id": "sxB9TAYCYf7Y",
        "outputId": "347e19c8-da01-47f1-ab55-0ffe379ab6ae",
        "colab": {
          "base_uri": "https://localhost:8080/"
        }
      },
      "outputs": [
        {
          "output_type": "execute_result",
          "data": {
            "text/plain": [
              "[1, 5.678, 'hello', True, 'bye']"
            ]
          },
          "metadata": {},
          "execution_count": 14
        }
      ],
      "source": [
        "my_list[1] = 5.678\n",
        "my_list"
      ]
    },
    {
      "cell_type": "markdown",
      "metadata": {
        "id": "5y0XM2y9Yf7Y"
      },
      "source": [
        "## Conditional\n",
        "\n",
        "Python offers if-elif-else for performing separate operations depending on certain conditions"
      ]
    },
    {
      "cell_type": "code",
      "execution_count": 15,
      "metadata": {
        "id": "p_RhZMxeYf7Z",
        "outputId": "0422baf9-3acb-4afb-abe4-248da0ea1bcf",
        "colab": {
          "base_uri": "https://localhost:8080/"
        }
      },
      "outputs": [
        {
          "output_type": "stream",
          "name": "stdout",
          "text": [
            "You are not old enough to drink\n"
          ]
        }
      ],
      "source": [
        "age = 20\n",
        "if age >= 21:\n",
        "    print('You are old enough to drink')\n",
        "else:\n",
        "    print('You are not old enough to drink')"
      ]
    },
    {
      "cell_type": "markdown",
      "metadata": {
        "id": "Xx-l_ywoYf7Z"
      },
      "source": [
        "**Note: Python is VERY particular about indentation**. Use the ``Tab`` key to move right by four spaces or the ``Shift``+``Tab`` key to move left one level\n",
        "\n",
        "Adding additional conditions via **elif**:"
      ]
    },
    {
      "cell_type": "code",
      "execution_count": 16,
      "metadata": {
        "id": "aQPKmebiYf7Z",
        "outputId": "5832a3d2-9848-415d-b7e8-3d9dbfac2418",
        "colab": {
          "base_uri": "https://localhost:8080/"
        }
      },
      "outputs": [
        {
          "output_type": "stream",
          "name": "stdout",
          "text": [
            "You can have a soda if you like\n"
          ]
        }
      ],
      "source": [
        "if age >= 21:\n",
        "    print('You are old enough to drink')\n",
        "elif age > 10:\n",
        "    print('You can have a soda if you like')\n",
        "else:\n",
        "    print('You are not old enough to drink')"
      ]
    },
    {
      "cell_type": "markdown",
      "metadata": {
        "id": "li08gnFxYf7Z"
      },
      "source": [
        "## Loops\n",
        "\n",
        "In many cases we need to perform the same operation multiple times. For such cases, we could use **for** or **while** loops depending on which works better\n",
        "\n",
        "### For loops\n",
        "These are great when the number of iterations is clearly known:"
      ]
    },
    {
      "cell_type": "code",
      "execution_count": 17,
      "metadata": {
        "id": "iFnE9QSYYf7Z",
        "outputId": "2442855f-3b67-4a17-cf0e-5b7f00d99e6a",
        "colab": {
          "base_uri": "https://localhost:8080/"
        }
      },
      "outputs": [
        {
          "output_type": "stream",
          "name": "stdout",
          "text": [
            "1\n",
            "5.678\n",
            "hello\n",
            "True\n",
            "bye\n"
          ]
        }
      ],
      "source": [
        "for item in my_list:\n",
        "    print(item)"
      ]
    },
    {
      "cell_type": "markdown",
      "metadata": {
        "id": "HRPyatvlYf7Z"
      },
      "source": [
        "### While loops\n",
        "These are great when you want some thing to keep happening over an **unknownn number of iterations** till a certain condition is met."
      ]
    },
    {
      "cell_type": "code",
      "execution_count": 18,
      "metadata": {
        "id": "bk9CwI-xYf7Z",
        "outputId": "aabb0cab-e0a2-48bc-ca5c-1dad30375444",
        "colab": {
          "base_uri": "https://localhost:8080/"
        }
      },
      "outputs": [
        {
          "output_type": "stream",
          "name": "stdout",
          "text": [
            "Cannot drive yet, you are only 15 years old\n",
            "Cannot drive yet, you are only 16 years old\n",
            "Cannot drive yet, you are only 17 years old\n",
            "You can finally drive now that you are 18 years old\n"
          ]
        }
      ],
      "source": [
        "age = 15\n",
        "while age < 18:\n",
        "    print('Cannot drive yet, you are only {} years old'.format(age))\n",
        "    age = age + 1\n",
        "print('You can finally drive now that you are {} years old'.format(age))"
      ]
    },
    {
      "cell_type": "markdown",
      "metadata": {
        "id": "GYuqtjycYf7a"
      },
      "source": [
        "## Functions\n",
        "\n",
        "Functions allow us to wrap a few lines of code so that it can be reused multiple times quickly in different places."
      ]
    },
    {
      "cell_type": "code",
      "execution_count": 19,
      "metadata": {
        "id": "YqYcmK1eYf7a",
        "outputId": "c99685f9-7721-444c-d6d0-06837a9ee42d",
        "colab": {
          "base_uri": "https://localhost:8080/"
        }
      },
      "outputs": [
        {
          "output_type": "stream",
          "name": "stdout",
          "text": [
            "hello world!\n"
          ]
        }
      ],
      "source": [
        "def welcome():\n",
        "    print('hello world!')\n",
        "\n",
        "welcome()"
      ]
    },
    {
      "cell_type": "markdown",
      "metadata": {
        "id": "Y4Z_UKTgYf7a"
      },
      "source": [
        "These functions can take variables as inputs..."
      ]
    },
    {
      "cell_type": "code",
      "execution_count": 20,
      "metadata": {
        "id": "jGj99kzTYf7a",
        "outputId": "ec9792ea-5918-4206-cdec-e479810ced81",
        "colab": {
          "base_uri": "https://localhost:8080/"
        }
      },
      "outputs": [
        {
          "output_type": "stream",
          "name": "stdout",
          "text": [
            "Dave is old enough to drive\n"
          ]
        }
      ],
      "source": [
        "def driving_eligibility(name, age):\n",
        "    if age >= 18:\n",
        "        print(name + ' is old enough to drive')\n",
        "    else:\n",
        "        print(name + ' is not old enough to drive')\n",
        "\n",
        "driving_eligibility('Dave', 19)"
      ]
    },
    {
      "cell_type": "markdown",
      "metadata": {
        "id": "TuN1D76FYf7a"
      },
      "source": [
        "The functions can also output some value when appropriate by **return**ing some value(s)"
      ]
    },
    {
      "cell_type": "code",
      "execution_count": 21,
      "metadata": {
        "id": "RMdOwM5OYf7a",
        "outputId": "2e58982f-727d-4236-bb44-fd55ff521846",
        "colab": {
          "base_uri": "https://localhost:8080/"
        }
      },
      "outputs": [
        {
          "output_type": "stream",
          "name": "stdout",
          "text": [
            "A person of age: 17 is allowed to drive: False\n"
          ]
        }
      ],
      "source": [
        "def eligible_to_drive(age):\n",
        "    if age >= 18:\n",
        "        return True\n",
        "    else:\n",
        "        return False\n",
        "\n",
        "age = 17\n",
        "result = eligible_to_drive(age)\n",
        "\n",
        "print('A person of age: {} is allowed to drive: {}'.format(age, result))"
      ]
    },
    {
      "cell_type": "markdown",
      "metadata": {
        "collapsed": true,
        "id": "kurs1Pc6Yf7a"
      },
      "source": [
        "## Boolean operations"
      ]
    },
    {
      "cell_type": "code",
      "execution_count": 22,
      "metadata": {
        "id": "tcfwwWawYf7a",
        "outputId": "c43b100d-cdff-4c9f-be34-4c83e2c31562",
        "colab": {
          "base_uri": "https://localhost:8080/"
        }
      },
      "outputs": [
        {
          "output_type": "execute_result",
          "data": {
            "text/plain": [
              "False"
            ]
          },
          "metadata": {},
          "execution_count": 22
        }
      ],
      "source": [
        "True and False"
      ]
    },
    {
      "cell_type": "code",
      "execution_count": 23,
      "metadata": {
        "id": "LaGRjX4pYf7e",
        "outputId": "10de58a7-f259-4db2-a1ff-f1d92d31b776",
        "colab": {
          "base_uri": "https://localhost:8080/"
        }
      },
      "outputs": [
        {
          "output_type": "execute_result",
          "data": {
            "text/plain": [
              "True"
            ]
          },
          "metadata": {},
          "execution_count": 23
        }
      ],
      "source": [
        "not False"
      ]
    },
    {
      "cell_type": "code",
      "execution_count": 24,
      "metadata": {
        "id": "UdzhPgLLYf7f",
        "outputId": "e453b412-4717-4110-be77-29115d8dc665",
        "colab": {
          "base_uri": "https://localhost:8080/"
        }
      },
      "outputs": [
        {
          "output_type": "execute_result",
          "data": {
            "text/plain": [
              "True"
            ]
          },
          "metadata": {},
          "execution_count": 24
        }
      ],
      "source": [
        "False or True"
      ]
    },
    {
      "cell_type": "markdown",
      "metadata": {
        "id": "-mZ4lvp2Yf7f"
      },
      "source": [
        "## Comparisons"
      ]
    },
    {
      "cell_type": "code",
      "execution_count": 25,
      "metadata": {
        "id": "hR4pmXdkYf7f",
        "outputId": "80a37b30-6424-43c7-a4b0-3f32370060d4",
        "colab": {
          "base_uri": "https://localhost:8080/"
        }
      },
      "outputs": [
        {
          "output_type": "execute_result",
          "data": {
            "text/plain": [
              "True"
            ]
          },
          "metadata": {},
          "execution_count": 25
        }
      ],
      "source": [
        "7 > 5"
      ]
    },
    {
      "cell_type": "code",
      "execution_count": 26,
      "metadata": {
        "id": "6VL5mCg3Yf7f",
        "outputId": "9e08dfa8-6383-49f0-fef8-0ad23e86241e",
        "colab": {
          "base_uri": "https://localhost:8080/"
        }
      },
      "outputs": [
        {
          "output_type": "execute_result",
          "data": {
            "text/plain": [
              "True"
            ]
          },
          "metadata": {},
          "execution_count": 26
        }
      ],
      "source": [
        "5 <= 5"
      ]
    },
    {
      "cell_type": "markdown",
      "metadata": {
        "id": "7rJ5QdmEYf7f"
      },
      "source": [
        "The exclamation symbol is equivalent to **not**"
      ]
    },
    {
      "cell_type": "code",
      "execution_count": 27,
      "metadata": {
        "id": "PCAoVlJdYf7f",
        "outputId": "04dee05e-47f0-41e0-c8e8-fd2700823c95",
        "colab": {
          "base_uri": "https://localhost:8080/"
        }
      },
      "outputs": [
        {
          "output_type": "execute_result",
          "data": {
            "text/plain": [
              "True"
            ]
          },
          "metadata": {},
          "execution_count": 27
        }
      ],
      "source": [
        "6 != 4"
      ]
    },
    {
      "cell_type": "markdown",
      "metadata": {
        "id": "uaK_wbOlYf7f"
      },
      "source": [
        "## Datatypes:"
      ]
    },
    {
      "cell_type": "code",
      "execution_count": 28,
      "metadata": {
        "id": "7XLn_82PYf7g",
        "outputId": "14f45625-1913-4753-c524-dc6edb69ac05",
        "colab": {
          "base_uri": "https://localhost:8080/"
        }
      },
      "outputs": [
        {
          "output_type": "execute_result",
          "data": {
            "text/plain": [
              "list"
            ]
          },
          "metadata": {},
          "execution_count": 28
        }
      ],
      "source": [
        "type([1,2,3])"
      ]
    },
    {
      "cell_type": "code",
      "execution_count": 29,
      "metadata": {
        "id": "_xIO9ZjTYf7g",
        "outputId": "301747ba-0d3b-4b2e-da63-73ec8d0e68fb",
        "colab": {
          "base_uri": "https://localhost:8080/"
        }
      },
      "outputs": [
        {
          "output_type": "execute_result",
          "data": {
            "text/plain": [
              "tuple"
            ]
          },
          "metadata": {},
          "execution_count": 29
        }
      ],
      "source": [
        "type((1,2,3))"
      ]
    },
    {
      "cell_type": "code",
      "execution_count": 30,
      "metadata": {
        "id": "DVKr08xVYf7g",
        "outputId": "0d68f611-f73e-4abb-e101-39d23f276407",
        "colab": {
          "base_uri": "https://localhost:8080/"
        }
      },
      "outputs": [
        {
          "output_type": "execute_result",
          "data": {
            "text/plain": [
              "dict"
            ]
          },
          "metadata": {},
          "execution_count": 30
        }
      ],
      "source": [
        "type({'name': 'Bob', 'age': 20})"
      ]
    },
    {
      "cell_type": "code",
      "execution_count": 31,
      "metadata": {
        "id": "e8zbV_saYf7g",
        "outputId": "1de5673e-33c0-473e-bbe9-a93dd208f675",
        "colab": {
          "base_uri": "https://localhost:8080/"
        }
      },
      "outputs": [
        {
          "output_type": "execute_result",
          "data": {
            "text/plain": [
              "str"
            ]
          },
          "metadata": {},
          "execution_count": 31
        }
      ],
      "source": [
        "type('Hello')"
      ]
    },
    {
      "cell_type": "code",
      "execution_count": 32,
      "metadata": {
        "id": "mx36FD9qYf7g",
        "outputId": "6b325049-f788-4f3e-f9ae-66a2fa71e201",
        "colab": {
          "base_uri": "https://localhost:8080/"
        }
      },
      "outputs": [
        {
          "output_type": "execute_result",
          "data": {
            "text/plain": [
              "bool"
            ]
          },
          "metadata": {},
          "execution_count": 32
        }
      ],
      "source": [
        "type(False)"
      ]
    },
    {
      "cell_type": "code",
      "execution_count": 33,
      "metadata": {
        "id": "7akPvMrAYf7g",
        "outputId": "e61a1eda-922b-4739-f1b3-dcba33400b13",
        "colab": {
          "base_uri": "https://localhost:8080/"
        }
      },
      "outputs": [
        {
          "output_type": "execute_result",
          "data": {
            "text/plain": [
              "float"
            ]
          },
          "metadata": {},
          "execution_count": 33
        }
      ],
      "source": [
        "type(1.0)"
      ]
    },
    {
      "cell_type": "code",
      "execution_count": 34,
      "metadata": {
        "id": "DLzJgwPxYf7g",
        "outputId": "087322a0-c961-4b29-dc35-6cff027d5192",
        "colab": {
          "base_uri": "https://localhost:8080/"
        }
      },
      "outputs": [
        {
          "output_type": "execute_result",
          "data": {
            "text/plain": [
              "int"
            ]
          },
          "metadata": {},
          "execution_count": 34
        }
      ],
      "source": [
        "type(1)"
      ]
    },
    {
      "cell_type": "markdown",
      "metadata": {
        "collapsed": true,
        "id": "LCqgyKSNYf7g"
      },
      "source": [
        "### Tuples\n",
        "These objects are very similar to lists except that they are **immutable** in that one cannot add / remove / modify the contents of the object.\n",
        "\n",
        "We create tuples in the same way as lists, except that we use round parenthesis / braces instead:"
      ]
    },
    {
      "cell_type": "code",
      "execution_count": 35,
      "metadata": {
        "id": "o_L_K_UVYf7h",
        "outputId": "a686ce11-980a-4d85-ef45-64b485382e6f",
        "colab": {
          "base_uri": "https://localhost:8080/"
        }
      },
      "outputs": [
        {
          "output_type": "execute_result",
          "data": {
            "text/plain": [
              "('hello', 55, -2.345, False)"
            ]
          },
          "metadata": {},
          "execution_count": 35
        }
      ],
      "source": [
        "my_tuple = ('hello', 55, -2.345, False)\n",
        "my_tuple"
      ]
    },
    {
      "cell_type": "markdown",
      "metadata": {
        "id": "ZJACggSPYf7h"
      },
      "source": [
        "As mentioned earlier, we cannot modify a tuple:"
      ]
    },
    {
      "cell_type": "code",
      "execution_count": 36,
      "metadata": {
        "id": "7pFvr8RVYf7h",
        "outputId": "a22c0195-cfe7-435a-abcc-4defb3e4823a",
        "colab": {
          "base_uri": "https://localhost:8080/"
        }
      },
      "outputs": [
        {
          "output_type": "execute_result",
          "data": {
            "text/plain": [
              "55"
            ]
          },
          "metadata": {},
          "execution_count": 36
        }
      ],
      "source": [
        "my_tuple[1]"
      ]
    },
    {
      "cell_type": "code",
      "execution_count": 37,
      "metadata": {
        "id": "JBmX_9o0Yf7h",
        "outputId": "94431e7a-6098-4b64-c56c-e6524f5cbd8b",
        "colab": {
          "base_uri": "https://localhost:8080/",
          "height": 145
        }
      },
      "outputs": [
        {
          "output_type": "error",
          "ename": "TypeError",
          "evalue": "'tuple' object does not support item assignment",
          "traceback": [
            "\u001b[0;31m---------------------------------------------------------------------------\u001b[0m",
            "\u001b[0;31mTypeError\u001b[0m                                 Traceback (most recent call last)",
            "\u001b[0;32m<ipython-input-37-e31047f7a9d2>\u001b[0m in \u001b[0;36m<cell line: 0>\u001b[0;34m()\u001b[0m\n\u001b[0;32m----> 1\u001b[0;31m \u001b[0mmy_tuple\u001b[0m\u001b[0;34m[\u001b[0m\u001b[0;36m1\u001b[0m\u001b[0;34m]\u001b[0m \u001b[0;34m=\u001b[0m \u001b[0;36m44\u001b[0m\u001b[0;34m\u001b[0m\u001b[0;34m\u001b[0m\u001b[0m\n\u001b[0m",
            "\u001b[0;31mTypeError\u001b[0m: 'tuple' object does not support item assignment"
          ]
        }
      ],
      "source": [
        "my_tuple[1] = 44"
      ]
    },
    {
      "cell_type": "markdown",
      "metadata": {
        "id": "R_kjgbEMYf7h"
      },
      "source": [
        "### Strings ~ Tuples of single-character strings\n",
        "We can apply the same \"indexing\" idea to find the second \"character\" in a string. Note that unlike C, Java, etc, python does not have a concept of \"characters\""
      ]
    },
    {
      "cell_type": "code",
      "execution_count": 38,
      "metadata": {
        "id": "iYjyuemCYf7h",
        "outputId": "e82e6692-64de-4707-a731-6e96d85abd2f",
        "colab": {
          "base_uri": "https://localhost:8080/",
          "height": 36
        }
      },
      "outputs": [
        {
          "output_type": "execute_result",
          "data": {
            "text/plain": [
              "'e'"
            ],
            "application/vnd.google.colaboratory.intrinsic+json": {
              "type": "string"
            }
          },
          "metadata": {},
          "execution_count": 38
        }
      ],
      "source": [
        "my_string = 'hello'\n",
        "my_string[1]"
      ]
    },
    {
      "cell_type": "markdown",
      "metadata": {
        "id": "H50xikXUYf7h"
      },
      "source": [
        "Attempting to change the second character:"
      ]
    },
    {
      "cell_type": "code",
      "execution_count": 39,
      "metadata": {
        "id": "kHUFBN7wYf7h",
        "outputId": "35243a4e-5ab7-46b7-edf7-1e39ccb59e0c",
        "colab": {
          "base_uri": "https://localhost:8080/",
          "height": 145
        }
      },
      "outputs": [
        {
          "output_type": "error",
          "ename": "TypeError",
          "evalue": "'str' object does not support item assignment",
          "traceback": [
            "\u001b[0;31m---------------------------------------------------------------------------\u001b[0m",
            "\u001b[0;31mTypeError\u001b[0m                                 Traceback (most recent call last)",
            "\u001b[0;32m<ipython-input-39-d93fc4f8c2fe>\u001b[0m in \u001b[0;36m<cell line: 0>\u001b[0;34m()\u001b[0m\n\u001b[0;32m----> 1\u001b[0;31m \u001b[0mmy_string\u001b[0m\u001b[0;34m[\u001b[0m\u001b[0;36m1\u001b[0m\u001b[0;34m]\u001b[0m \u001b[0;34m=\u001b[0m \u001b[0;34m'o'\u001b[0m\u001b[0;34m\u001b[0m\u001b[0;34m\u001b[0m\u001b[0m\n\u001b[0m",
            "\u001b[0;31mTypeError\u001b[0m: 'str' object does not support item assignment"
          ]
        }
      ],
      "source": [
        "my_string[1] = 'o'"
      ]
    },
    {
      "cell_type": "markdown",
      "metadata": {
        "id": "c9V6qvFSYf7h"
      },
      "source": [
        "## Dictionary\n",
        "\n",
        "This is a very handy object that allows the storage of **name-value** pairs. So, one could assign a name to a value instead of refering to it as the second value in a list.\n",
        "\n",
        "For example, if we wanted to store information (name, age, score) of all the people in a class, we could use a dictionary instead of a list:"
      ]
    },
    {
      "cell_type": "code",
      "execution_count": 40,
      "metadata": {
        "id": "8jD2SUVOYf7i"
      },
      "outputs": [],
      "source": [
        "student_1 = {'name': 'Harry',\n",
        "             'age': 20,\n",
        "             'score':89}"
      ]
    },
    {
      "cell_type": "markdown",
      "metadata": {
        "id": "uAzNvB1yYf7i"
      },
      "source": [
        "Now, if we wanted to find the age of the person, we could say:"
      ]
    },
    {
      "cell_type": "code",
      "execution_count": 41,
      "metadata": {
        "id": "Obhp4mcSYf7i",
        "outputId": "51b8bb88-6ae2-4626-ddf2-dbc90939d586",
        "colab": {
          "base_uri": "https://localhost:8080/"
        }
      },
      "outputs": [
        {
          "output_type": "execute_result",
          "data": {
            "text/plain": [
              "20"
            ]
          },
          "metadata": {},
          "execution_count": 41
        }
      ],
      "source": [
        "student_1['age']"
      ]
    },
    {
      "cell_type": "markdown",
      "metadata": {
        "id": "NsAAiFAyYf7i"
      },
      "source": [
        "Note that the dictionary may itself arrange the name-value pairs (**internally**) in any order unlike the order you see above. So **do not assume that the dictionary is sorted in a particular way**."
      ]
    },
    {
      "cell_type": "code",
      "execution_count": 42,
      "metadata": {
        "id": "GdLnuTHeYf7i",
        "outputId": "315097f7-6523-4ce4-d57b-3d57afd8e52d",
        "colab": {
          "base_uri": "https://localhost:8080/"
        }
      },
      "outputs": [
        {
          "output_type": "execute_result",
          "data": {
            "text/plain": [
              "{'name': 'Harry', 'age': 20, 'score': 89}"
            ]
          },
          "metadata": {},
          "execution_count": 42
        }
      ],
      "source": [
        "student_1"
      ]
    },
    {
      "cell_type": "markdown",
      "metadata": {
        "id": "fQpheMQkYf7i"
      },
      "source": [
        "## Packages = addons to python\n",
        "Python itself cannot do a whole lot but there are several packages for every need:\n",
        "![Python software stack from 2015](http://danielrothenberg.com/gcpy/_images/state_of_the_stack_2015.png)\n",
        "source: http://danielrothenberg.com/gcpy/python.html\n",
        "\n",
        "### Where to get packages?\n",
        "* ``pypi``[python package index](https://pypi.org/)\n",
        "* ``conda`` [conda forge](https://conda-forge.org/feedstocks/)\n",
        "\n",
        "### How to get packages?\n",
        "* [Anaconda](https://www.anaconda.com/download/) already comes with the most popular packages\n",
        "* Install as simply by typing ``pip install mypackage`` or ``conda install mypackage`` in your ``Anaconda Prompt`` (Windows) or a ``Terminal`` (Mac or Linux)"
      ]
    },
    {
      "cell_type": "code",
      "execution_count": 42,
      "metadata": {
        "id": "IbsaA3CIYf7i"
      },
      "outputs": [],
      "source": []
    },
    {
      "cell_type": "markdown",
      "metadata": {
        "id": "lWmTKclFYzdH"
      },
      "source": [
        "# Introduction to NumPy\n",
        "\n",
        "[Originally developed by Stefan](https://github.com/stefanv/imagexd_scientific_python) for the 2018 Image XD Workshop\n",
        "\n",
        "## What do I use NumPy for?\n",
        "  1. An array object of arbitrary homogeneous items\n",
        "  2. Fast mathematical operations over arrays\n",
        "  3. Linear Algebra, Fourier Transforms, Random Number Generation"
      ]
    },
    {
      "cell_type": "code",
      "execution_count": 43,
      "metadata": {
        "id": "66XBqmZWYzdJ",
        "outputId": "77597ad7-6279-4d6b-e500-637c2e9927da",
        "colab": {
          "base_uri": "https://localhost:8080/",
          "height": 36
        }
      },
      "outputs": [
        {
          "output_type": "execute_result",
          "data": {
            "text/plain": [
              "'1.26.4'"
            ],
            "application/vnd.google.colaboratory.intrinsic+json": {
              "type": "string"
            }
          },
          "metadata": {},
          "execution_count": 43
        }
      ],
      "source": [
        "import numpy as np\n",
        "import matplotlib.pyplot as plt\n",
        "np.__version__"
      ]
    },
    {
      "cell_type": "markdown",
      "metadata": {
        "id": "TZPiNSywYzdL"
      },
      "source": [
        "## Where to get help?\n",
        "\n",
        "- http://docs.scipy.org\n",
        "- Forums: mailing list, http://stackoverflow.com\n",
        "\n",
        "## Where do I learn more?\n",
        "\n",
        "- <a href=\"http://mentat.za.net/numpy/intro/intro.html\">NumPy introductory tutorial</a>\n",
        "- <a href=\"http://scipy-lectures.github.com\">SciPy Lectures</a>"
      ]
    },
    {
      "cell_type": "markdown",
      "metadata": {
        "id": "H6VGEvTYYzdL"
      },
      "source": [
        "## The structure of a NumPy array\n",
        "Contiguous sequence of data"
      ]
    },
    {
      "cell_type": "markdown",
      "metadata": {
        "id": "heszHSeZYzdL"
      },
      "source": [
        "## Creating arrays\n",
        "\n",
        "### 1D arrays"
      ]
    },
    {
      "cell_type": "code",
      "execution_count": 44,
      "metadata": {
        "id": "wizWM7WdYzdL",
        "outputId": "a1e53ab9-0583-45bb-dab2-84601f42afbf",
        "colab": {
          "base_uri": "https://localhost:8080/"
        }
      },
      "outputs": [
        {
          "output_type": "execute_result",
          "data": {
            "text/plain": [
              "array([0, 1, 2, 3, 4])"
            ]
          },
          "metadata": {},
          "execution_count": 44
        }
      ],
      "source": [
        "np.arange(5)"
      ]
    },
    {
      "cell_type": "code",
      "execution_count": 45,
      "metadata": {
        "id": "W0uXvhtJYzdM",
        "outputId": "fe2db262-23c9-456c-fd9a-4897b87b8b1f",
        "colab": {
          "base_uri": "https://localhost:8080/"
        }
      },
      "outputs": [
        {
          "output_type": "execute_result",
          "data": {
            "text/plain": [
              "array([2, 4, 6])"
            ]
          },
          "metadata": {},
          "execution_count": 45
        }
      ],
      "source": [
        "# start, stop, step\n",
        "np.arange(2, 8, 2)"
      ]
    },
    {
      "cell_type": "code",
      "execution_count": 46,
      "metadata": {
        "id": "KzwLHBhBYzdM",
        "outputId": "3f869cd3-e9db-4064-ede3-d66df0c7a7c2",
        "colab": {
          "base_uri": "https://localhost:8080/"
        }
      },
      "outputs": [
        {
          "output_type": "execute_result",
          "data": {
            "text/plain": [
              "array([0. , 0.1, 0.2, 0.3, 0.4, 0.5, 0.6, 0.7, 0.8, 0.9, 1. ])"
            ]
          },
          "metadata": {},
          "execution_count": 46
        }
      ],
      "source": [
        "np.linspace(0, 1, num=11)"
      ]
    },
    {
      "cell_type": "markdown",
      "metadata": {
        "id": "HM2T-RwBYzdN"
      },
      "source": [
        "### Multidimensional datasets"
      ]
    },
    {
      "cell_type": "code",
      "execution_count": 47,
      "metadata": {
        "id": "F0NEHfNSYzdN",
        "outputId": "626ba28c-c5fa-4b1a-8289-e15286710bd4",
        "colab": {
          "base_uri": "https://localhost:8080/"
        }
      },
      "outputs": [
        {
          "output_type": "execute_result",
          "data": {
            "text/plain": [
              "array([[0.4185826 , 0.69531393, 0.92689622, 0.8488028 ],\n",
              "       [0.84307457, 0.06316744, 0.51979201, 0.01727809],\n",
              "       [0.78069979, 0.5282618 , 0.78458791, 0.86797204]])"
            ]
          },
          "metadata": {},
          "execution_count": 47
        }
      ],
      "source": [
        "np.random.rand(3, 4)"
      ]
    },
    {
      "cell_type": "code",
      "execution_count": 48,
      "metadata": {
        "id": "R4L4g8EvYzdN",
        "outputId": "c6f6753a-0669-453e-fc1e-c83d2c012a35",
        "colab": {
          "base_uri": "https://localhost:8080/"
        }
      },
      "outputs": [
        {
          "output_type": "execute_result",
          "data": {
            "text/plain": [
              "array([[0., 0., 0.],\n",
              "       [0., 0., 0.],\n",
              "       [0., 0., 0.]])"
            ]
          },
          "metadata": {},
          "execution_count": 48
        }
      ],
      "source": [
        "np.zeros((3,3))"
      ]
    },
    {
      "cell_type": "code",
      "execution_count": 49,
      "metadata": {
        "id": "7R-niJo7YzdN",
        "outputId": "41f45a38-037d-4782-dc64-870652494314",
        "colab": {
          "base_uri": "https://localhost:8080/"
        }
      },
      "outputs": [
        {
          "output_type": "execute_result",
          "data": {
            "text/plain": [
              "array([[1., 1., 1., 1., 1.],\n",
              "       [1., 1., 1., 1., 1.]])"
            ]
          },
          "metadata": {},
          "execution_count": 49
        }
      ],
      "source": [
        "np.ones((2, 5))"
      ]
    },
    {
      "cell_type": "code",
      "execution_count": 50,
      "metadata": {
        "id": "Ly_HiCzBYzdN",
        "outputId": "fe527774-863f-46de-ff42-127e0e0aa16e",
        "colab": {
          "base_uri": "https://localhost:8080/"
        }
      },
      "outputs": [
        {
          "output_type": "execute_result",
          "data": {
            "text/plain": [
              "array([[ 1,  0,  0],\n",
              "       [ 0, -2,  0],\n",
              "       [ 0,  0,  3]])"
            ]
          },
          "metadata": {},
          "execution_count": 50
        }
      ],
      "source": [
        "np.diag([1, -2, 3])"
      ]
    },
    {
      "cell_type": "code",
      "execution_count": 51,
      "metadata": {
        "id": "ohvIClFKYzdO",
        "outputId": "d5596842-de16-421b-fdb5-3157e5aa9951",
        "colab": {
          "base_uri": "https://localhost:8080/"
        }
      },
      "outputs": [
        {
          "output_type": "execute_result",
          "data": {
            "text/plain": [
              "array([[1, 4],\n",
              "       [2, 8]], dtype=uint8)"
            ]
          },
          "metadata": {},
          "execution_count": 51
        }
      ],
      "source": [
        "np.array([[1, 4], [2, 8]], dtype=np.uint8)"
      ]
    },
    {
      "cell_type": "markdown",
      "metadata": {
        "id": "JGOKTtZUYzdO"
      },
      "source": [
        "## Properties"
      ]
    },
    {
      "cell_type": "code",
      "execution_count": 52,
      "metadata": {
        "id": "NWoVw4cmYzdO",
        "outputId": "b013fdf4-dd56-425c-a80e-78902a0c88cc",
        "colab": {
          "base_uri": "https://localhost:8080/"
        }
      },
      "outputs": [
        {
          "output_type": "execute_result",
          "data": {
            "text/plain": [
              "(3, 5)"
            ]
          },
          "metadata": {},
          "execution_count": 52
        }
      ],
      "source": [
        "x = np.random.rand(3, 5)\n",
        "x.shape"
      ]
    },
    {
      "cell_type": "code",
      "execution_count": 53,
      "metadata": {
        "id": "OewlTS4zYzdO",
        "outputId": "3ec3a0f2-9129-4ae4-cc55-d44060648dfd",
        "colab": {
          "base_uri": "https://localhost:8080/"
        }
      },
      "outputs": [
        {
          "output_type": "execute_result",
          "data": {
            "text/plain": [
              "15"
            ]
          },
          "metadata": {},
          "execution_count": 53
        }
      ],
      "source": [
        "x.size"
      ]
    },
    {
      "cell_type": "code",
      "execution_count": 54,
      "metadata": {
        "id": "iC1SL2NKYzdP",
        "outputId": "4f64ee60-3ebd-4d00-ea45-43c782c71f42",
        "colab": {
          "base_uri": "https://localhost:8080/"
        }
      },
      "outputs": [
        {
          "output_type": "execute_result",
          "data": {
            "text/plain": [
              "dtype('float64')"
            ]
          },
          "metadata": {},
          "execution_count": 54
        }
      ],
      "source": [
        "x.dtype"
      ]
    },
    {
      "cell_type": "markdown",
      "metadata": {
        "id": "lC0j4c5IYzdP"
      },
      "source": [
        "## Editing / Populating"
      ]
    },
    {
      "cell_type": "code",
      "execution_count": 55,
      "metadata": {
        "id": "rcO_k2IsYzdP",
        "outputId": "ae45a597-8a5f-44c4-aa56-6920c5989ebf",
        "colab": {
          "base_uri": "https://localhost:8080/"
        }
      },
      "outputs": [
        {
          "output_type": "stream",
          "name": "stdout",
          "text": [
            "[0 1 2 3 4]\n",
            "afer modification:\n",
            "[   0 -700    2    3    4]\n"
          ]
        }
      ],
      "source": [
        "x = np.arange(5)\n",
        "print(x)\n",
        "x[1] = -700\n",
        "print('afer modification:')\n",
        "print(x)"
      ]
    },
    {
      "cell_type": "markdown",
      "metadata": {
        "id": "EMELZyYgYzdP"
      },
      "source": [
        "## Transpose and Reshaping"
      ]
    },
    {
      "cell_type": "code",
      "execution_count": 56,
      "metadata": {
        "id": "GzbOWsgoYzdP",
        "outputId": "bd34e691-44fb-4b6e-ca84-e49acfa5d497",
        "colab": {
          "base_uri": "https://localhost:8080/"
        }
      },
      "outputs": [
        {
          "output_type": "execute_result",
          "data": {
            "text/plain": [
              "array([[4, 6, 2],\n",
              "       [7, 2, 3]])"
            ]
          },
          "metadata": {},
          "execution_count": 56
        }
      ],
      "source": [
        "x = np.random.randint(0, high=10, size=(2,3))\n",
        "x"
      ]
    },
    {
      "cell_type": "markdown",
      "metadata": {
        "id": "eYOpBoDkYzdP"
      },
      "source": [
        "### Transpose"
      ]
    },
    {
      "cell_type": "code",
      "execution_count": 57,
      "metadata": {
        "id": "tZuF6e7dYzdQ",
        "outputId": "7cadd141-dae2-4678-c7c4-af2ede03bb0c",
        "colab": {
          "base_uri": "https://localhost:8080/"
        }
      },
      "outputs": [
        {
          "output_type": "execute_result",
          "data": {
            "text/plain": [
              "array([[4, 7],\n",
              "       [6, 2],\n",
              "       [2, 3]])"
            ]
          },
          "metadata": {},
          "execution_count": 57
        }
      ],
      "source": [
        "x.T"
      ]
    },
    {
      "cell_type": "markdown",
      "metadata": {
        "id": "qNsZcjeEYzdQ"
      },
      "source": [
        "### Reshape"
      ]
    },
    {
      "cell_type": "code",
      "execution_count": 58,
      "metadata": {
        "id": "boLLMS2JYzdQ",
        "outputId": "aab4d3a0-768f-4d11-a150-711f51d4075e",
        "colab": {
          "base_uri": "https://localhost:8080/"
        }
      },
      "outputs": [
        {
          "output_type": "execute_result",
          "data": {
            "text/plain": [
              "array([[4],\n",
              "       [6],\n",
              "       [2],\n",
              "       [7],\n",
              "       [2],\n",
              "       [3]])"
            ]
          },
          "metadata": {},
          "execution_count": 58
        }
      ],
      "source": [
        "x.reshape(6, 1)"
      ]
    },
    {
      "cell_type": "markdown",
      "metadata": {
        "id": "CuE7R4GJYzdQ"
      },
      "source": [
        "## Operations"
      ]
    },
    {
      "cell_type": "code",
      "execution_count": 59,
      "metadata": {
        "id": "HgecfDm6YzdQ",
        "outputId": "13770bbc-c2f9-4d27-8abe-c0a226e73a9c",
        "colab": {
          "base_uri": "https://localhost:8080/"
        }
      },
      "outputs": [
        {
          "output_type": "stream",
          "name": "stdout",
          "text": [
            "x: [0 1 2 3 4]\n",
            "y: [5 9 3 3 7]\n"
          ]
        },
        {
          "output_type": "execute_result",
          "data": {
            "text/plain": [
              "array([ 5, 10,  5,  6, 11])"
            ]
          },
          "metadata": {},
          "execution_count": 59
        }
      ],
      "source": [
        "x = np.arange(5)\n",
        "y = np.random.randint(0, high=10, size=5)\n",
        "print('x:', x)\n",
        "print('y:', y)\n",
        "x + y"
      ]
    },
    {
      "cell_type": "markdown",
      "metadata": {
        "id": "azTBl9rIYzdQ"
      },
      "source": [
        "### Broadcasting:"
      ]
    },
    {
      "cell_type": "code",
      "execution_count": 60,
      "metadata": {
        "id": "bmOVHAvAYzdR",
        "outputId": "2c2b0dab-5eb7-449c-ab99-5892c2f8dde3",
        "colab": {
          "base_uri": "https://localhost:8080/"
        }
      },
      "outputs": [
        {
          "output_type": "stream",
          "name": "stdout",
          "text": [
            "x:\n",
            " [[ 0  1  2]\n",
            " [ 3  4  5]\n",
            " [ 6  7  8]\n",
            " [ 9 10 11]\n",
            " [12 13 14]]\n",
            "y:\n",
            " [ 0 -1 -1]\n"
          ]
        },
        {
          "output_type": "execute_result",
          "data": {
            "text/plain": [
              "array([[ 0,  0,  1],\n",
              "       [ 3,  3,  4],\n",
              "       [ 6,  6,  7],\n",
              "       [ 9,  9, 10],\n",
              "       [12, 12, 13]])"
            ]
          },
          "metadata": {},
          "execution_count": 60
        }
      ],
      "source": [
        "x = np.arange(15).reshape(5, 3)\n",
        "y = np.random.randint(-1, high=1, size=3)\n",
        "print('x:\\n', x)\n",
        "print('y:\\n', y)\n",
        "x + y"
      ]
    },
    {
      "cell_type": "code",
      "execution_count": 61,
      "metadata": {
        "id": "hR0e1rJQYzdR",
        "outputId": "12e116fa-f2c5-4ace-b5f3-5d465afa7bf9",
        "colab": {
          "base_uri": "https://localhost:8080/",
          "height": 430
        }
      },
      "outputs": [
        {
          "output_type": "display_data",
          "data": {
            "text/plain": [
              "<Figure size 640x480 with 1 Axes>"
            ],
            "image/png": "[encoded data removed]"
          },
          "metadata": {}
        }
      ],
      "source": [
        "x = np.linspace(0, 2 * np.pi, 1000)\n",
        "y = np.sin(x) ** 3\n",
        "\n",
        "plt.plot(x, y);"
      ]
    },
    {
      "cell_type": "markdown",
      "metadata": {
        "id": "a7t5xtlQYzdR"
      },
      "source": [
        "## Indexing and Slicing"
      ]
    },
    {
      "cell_type": "code",
      "execution_count": 62,
      "metadata": {
        "id": "Kb-ffR0DYzdR",
        "outputId": "a58bcd0f-ad88-44d3-9a75-472d8ca749b0",
        "colab": {
          "base_uri": "https://localhost:8080/"
        }
      },
      "outputs": [
        {
          "output_type": "execute_result",
          "data": {
            "text/plain": [
              "array([[1, 2, 3],\n",
              "       [3, 2, 1]])"
            ]
          },
          "metadata": {},
          "execution_count": 62
        }
      ],
      "source": [
        "x = np.array([[1, 2, 3], [3, 2, 1]])\n",
        "x"
      ]
    },
    {
      "cell_type": "code",
      "execution_count": 63,
      "metadata": {
        "id": "1xfaYW46YzdR",
        "outputId": "c16f618e-5d6c-424a-b04d-60945180eb5c",
        "colab": {
          "base_uri": "https://localhost:8080/"
        }
      },
      "outputs": [
        {
          "output_type": "execute_result",
          "data": {
            "text/plain": [
              "2"
            ]
          },
          "metadata": {},
          "execution_count": 63
        }
      ],
      "source": [
        "x[0, 1]"
      ]
    },
    {
      "cell_type": "code",
      "execution_count": 64,
      "metadata": {
        "id": "cOiPS0wLYzdR",
        "outputId": "fe8c2b57-5e7c-4534-b2e9-d1d7fc331c8f",
        "colab": {
          "base_uri": "https://localhost:8080/"
        }
      },
      "outputs": [
        {
          "output_type": "execute_result",
          "data": {
            "text/plain": [
              "array([3, 2, 1])"
            ]
          },
          "metadata": {},
          "execution_count": 64
        }
      ],
      "source": [
        "x[1]"
      ]
    },
    {
      "cell_type": "code",
      "execution_count": 65,
      "metadata": {
        "id": "eOgYSCWkYzdR",
        "outputId": "2c1578be-e8ed-4026-8f18-a9434476f369",
        "colab": {
          "base_uri": "https://localhost:8080/"
        }
      },
      "outputs": [
        {
          "output_type": "execute_result",
          "data": {
            "text/plain": [
              "array([[2, 3],\n",
              "       [2, 1]])"
            ]
          },
          "metadata": {},
          "execution_count": 65
        }
      ],
      "source": [
        "x[:, 1:3]"
      ]
    }
  ],
  "metadata": {
    "kernelspec": {
      "display_name": "Python 3",
      "language": "python",
      "name": "python3"
    },
    "language_info": {
      "codemirror_mode": {
        "name": "ipython",
        "version": 3
      },
      "file_extension": ".py",
      "mimetype": "text/x-python",
      "name": "python",
      "nbconvert_exporter": "python",
      "pygments_lexer": "ipython3",
      "version": "3.5.5"
    },
    "colab": {
      "provenance": [],
      "include_colab_link": true
    }
  },
  "nbformat": 4,
  "nbformat_minor": 0
}